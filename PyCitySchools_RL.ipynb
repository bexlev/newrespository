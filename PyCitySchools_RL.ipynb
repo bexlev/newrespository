{
 "cells": [
  {
   "cell_type": "code",
   "execution_count": 202,
   "id": "59ef735c",
   "metadata": {
    "scrolled": false
   },
   "outputs": [
    {
     "data": {
      "text/html": [
       "<div>\n",
       "<style scoped>\n",
       "    .dataframe tbody tr th:only-of-type {\n",
       "        vertical-align: middle;\n",
       "    }\n",
       "\n",
       "    .dataframe tbody tr th {\n",
       "        vertical-align: top;\n",
       "    }\n",
       "\n",
       "    .dataframe thead th {\n",
       "        text-align: right;\n",
       "    }\n",
       "</style>\n",
       "<table border=\"1\" class=\"dataframe\">\n",
       "  <thead>\n",
       "    <tr style=\"text-align: right;\">\n",
       "      <th></th>\n",
       "      <th>Student ID</th>\n",
       "      <th>student_name</th>\n",
       "      <th>gender</th>\n",
       "      <th>grade</th>\n",
       "      <th>school_name</th>\n",
       "      <th>reading_score</th>\n",
       "      <th>math_score</th>\n",
       "      <th>School ID</th>\n",
       "      <th>type</th>\n",
       "      <th>size</th>\n",
       "      <th>budget</th>\n",
       "    </tr>\n",
       "  </thead>\n",
       "  <tbody>\n",
       "    <tr>\n",
       "      <th>0</th>\n",
       "      <td>0</td>\n",
       "      <td>Paul Bradley</td>\n",
       "      <td>M</td>\n",
       "      <td>9th</td>\n",
       "      <td>Huang High School</td>\n",
       "      <td>66</td>\n",
       "      <td>79</td>\n",
       "      <td>0</td>\n",
       "      <td>District</td>\n",
       "      <td>2917</td>\n",
       "      <td>1910635</td>\n",
       "    </tr>\n",
       "    <tr>\n",
       "      <th>1</th>\n",
       "      <td>1</td>\n",
       "      <td>Victor Smith</td>\n",
       "      <td>M</td>\n",
       "      <td>12th</td>\n",
       "      <td>Huang High School</td>\n",
       "      <td>94</td>\n",
       "      <td>61</td>\n",
       "      <td>0</td>\n",
       "      <td>District</td>\n",
       "      <td>2917</td>\n",
       "      <td>1910635</td>\n",
       "    </tr>\n",
       "    <tr>\n",
       "      <th>2</th>\n",
       "      <td>2</td>\n",
       "      <td>Kevin Rodriguez</td>\n",
       "      <td>M</td>\n",
       "      <td>12th</td>\n",
       "      <td>Huang High School</td>\n",
       "      <td>90</td>\n",
       "      <td>60</td>\n",
       "      <td>0</td>\n",
       "      <td>District</td>\n",
       "      <td>2917</td>\n",
       "      <td>1910635</td>\n",
       "    </tr>\n",
       "    <tr>\n",
       "      <th>3</th>\n",
       "      <td>3</td>\n",
       "      <td>Dr. Richard Scott</td>\n",
       "      <td>M</td>\n",
       "      <td>12th</td>\n",
       "      <td>Huang High School</td>\n",
       "      <td>67</td>\n",
       "      <td>58</td>\n",
       "      <td>0</td>\n",
       "      <td>District</td>\n",
       "      <td>2917</td>\n",
       "      <td>1910635</td>\n",
       "    </tr>\n",
       "    <tr>\n",
       "      <th>4</th>\n",
       "      <td>4</td>\n",
       "      <td>Bonnie Ray</td>\n",
       "      <td>F</td>\n",
       "      <td>9th</td>\n",
       "      <td>Huang High School</td>\n",
       "      <td>97</td>\n",
       "      <td>84</td>\n",
       "      <td>0</td>\n",
       "      <td>District</td>\n",
       "      <td>2917</td>\n",
       "      <td>1910635</td>\n",
       "    </tr>\n",
       "  </tbody>\n",
       "</table>\n",
       "</div>"
      ],
      "text/plain": [
       "   Student ID       student_name gender grade        school_name  \\\n",
       "0           0       Paul Bradley      M   9th  Huang High School   \n",
       "1           1       Victor Smith      M  12th  Huang High School   \n",
       "2           2    Kevin Rodriguez      M  12th  Huang High School   \n",
       "3           3  Dr. Richard Scott      M  12th  Huang High School   \n",
       "4           4         Bonnie Ray      F   9th  Huang High School   \n",
       "\n",
       "   reading_score  math_score  School ID      type  size   budget  \n",
       "0             66          79          0  District  2917  1910635  \n",
       "1             94          61          0  District  2917  1910635  \n",
       "2             90          60          0  District  2917  1910635  \n",
       "3             67          58          0  District  2917  1910635  \n",
       "4             97          84          0  District  2917  1910635  "
      ]
     },
     "execution_count": 202,
     "metadata": {},
     "output_type": "execute_result"
    }
   ],
   "source": [
    "# Dependencies and Setup\n",
    "import pandas as pd\n",
    "\n",
    "# File to Load (using absolute path)\n",
    "school_data = pd.read_csv(r\"C:\\Users\\Rebecca Levine\\Desktop\\panda-challenge\\Resources\\schools_complete.csv\")\n",
    "student_data = pd.read_csv(r\"C:\\Users\\Rebecca Levine\\Desktop\\panda-challenge\\Resources\\students_complete.csv\")\n",
    "\n",
    "                              \n",
    "# # Read School and Student Data File and store into Pandas DataFrames\n",
    "# school_data = pd.read_csv(school_data_csv)\n",
    "# student_data = pd.read_csv(student_data_csv)\n",
    "\n",
    "# Combine the data into a single dataset.  \n",
    "school_data_complete = pd.merge(student_data, school_data, how=\"left\", on=[\"school_name\", \"school_name\"])\n",
    "\n",
    "school_data_complete.head()"
   ]
  },
  {
   "cell_type": "markdown",
   "id": "28a2cf5c",
   "metadata": {},
   "source": [
    "# District Summary\n"
   ]
  },
  {
   "cell_type": "code",
   "execution_count": 107,
   "id": "1745c364",
   "metadata": {},
   "outputs": [
    {
     "name": "stdout",
     "output_type": "stream",
     "text": [
      "15\n",
      "39170\n",
      "(array(['Huang High School', 'Figueroa High School', 'Shelton High School',\n",
      "       'Hernandez High School', 'Griffin High School',\n",
      "       'Wilson High School', 'Cabrera High School', 'Bailey High School',\n",
      "       'Holden High School', 'Pena High School', 'Wright High School',\n",
      "       'Rodriguez High School', 'Johnson High School', 'Ford High School',\n",
      "       'Thomas High School'], dtype=object), array([1910635, 1884411, 1056600, 3022020,  917500, 1319574, 1081356,\n",
      "       3124928,  248087,  585858, 1049400, 2547363, 3094650, 1763916,\n",
      "       1043130], dtype=int64))\n",
      "24649428\n"
     ]
    }
   ],
   "source": [
    "# Calculate the total number of schools\n",
    "\n",
    "number_of_schools = len(school_data_complete[\"school_name\"].unique())\n",
    "print(number_of_schools)\n",
    "\n",
    "# Calculate the total number of students\n",
    "number_of_students = len(school_data_complete[\"Student ID\"])\n",
    "print(number_of_students)\n",
    "\n",
    "# Calculate the total budget\n",
    "#Want to extract only school names and budgets, and find each school's budget. Then they can be summed.\n",
    "school_budgets = (school_data_complete[\"school_name\"].unique(), school_data_complete[\"budget\"].unique())\n",
    "print(school_budgets)\n",
    "#Was possible to visually verify that the budgets are unique across schools so they can just be summed\n",
    "\n",
    "\n",
    "total_budget = (school_data_complete[\"budget\"].unique()).sum()\n",
    "print(total_budget)\n"
   ]
  },
  {
   "cell_type": "code",
   "execution_count": 108,
   "id": "9cfdd40d",
   "metadata": {},
   "outputs": [
    {
     "name": "stdout",
     "output_type": "stream",
     "text": [
      "78.98537145774827\n",
      "81.87784018381414\n"
     ]
    }
   ],
   "source": [
    "# Calculate the average math score\n",
    "average_math_score = (school_data_complete[\"math_score\"].mean())\n",
    "print(average_math_score)\n",
    "\n",
    "# Calculate the average reading score\n",
    "average_reading_score = (school_data_complete[\"reading_score\"].mean())\n",
    "print(average_reading_score)"
   ]
  },
  {
   "cell_type": "code",
   "execution_count": 127,
   "id": "3746a8ba",
   "metadata": {},
   "outputs": [
    {
     "name": "stdout",
     "output_type": "stream",
     "text": [
      "39170\n",
      "75\n",
      "33610\n",
      "86\n",
      "25528\n",
      "65\n"
     ]
    }
   ],
   "source": [
    "# Calculate the percentage of students with a passing math score (70 or greater)\n",
    "\n",
    "\n",
    "students_passing_math  = school_data_complete.loc[(school_data_complete[\"math_score\"]>= 70), :]\n",
    "(len(students_passing_math))\n",
    "print(number_of_students)\n",
    "\n",
    "#From earlier calculation, total students is number_of_students\n",
    "#pp will now stand for percent passing\n",
    "pp_math = ((len(students_passing_math))/number_of_students)*100\n",
    "pp_math\n",
    "\n",
    "rounded_pp_math = round(pp_math)\n",
    "print(rounded_pp_math)\n",
    "\n",
    "\n",
    "# Calculate the percentage of students with a passing reading score (70 or greater)\n",
    "\n",
    "students_passing_reading  = school_data_complete.loc[(school_data_complete[\"reading_score\"]>= 70), :]\n",
    "print(len(students_passing_reading))\n",
    "\n",
    "pp_reading = ((len(students_passing_reading))/number_of_students)*100\n",
    "pp_reading\n",
    "\n",
    "rounded_pp_reading = round(pp_reading)\n",
    "print(rounded_pp_reading)\n",
    "\n",
    "\n",
    "\n",
    "# Calculate the percentage of students who passed math and reading (% Overall Passing)\n",
    "passing_reading_and_math = school_data_complete.loc[(school_data_complete[\"reading_score\"]>= 70) & (school_data_complete[\"math_score\"]>= 70), :]\n",
    "print(len(passing_reading_and_math))\n",
    "\n",
    "pp_reading_and_math = ((len(passing_reading_and_math))/number_of_students)*100\n",
    "pp_reading_and_math\n",
    "                                    \n",
    "rounded_pp_reading_and_math = round(pp_reading_and_math)\n",
    "print(rounded_pp_reading_and_math)"
   ]
  },
  {
   "cell_type": "code",
   "execution_count": 211,
   "id": "ccdccb0f",
   "metadata": {},
   "outputs": [
    {
     "name": "stdout",
     "output_type": "stream",
     "text": [
      "[2917 2949 1761 4635 1468 2283 1858 4976  427  962 1800 3999 4761 2739\n",
      " 1635]\n",
      "39170\n"
     ]
    }
   ],
   "source": [
    "#I want to check if size is about the number of students for later use....\n",
    "size_test = school_data_complete[\"size\"].unique()\n",
    "print(size_test)\n",
    "students_maybe = size_test.sum()\n",
    "print(students_maybe)\n",
    "\n",
    "#It is, 39170 is the same amount I calculated above for total students"
   ]
  },
  {
   "cell_type": "code",
   "execution_count": 156,
   "id": "3691e529",
   "metadata": {
    "scrolled": true
   },
   "outputs": [
    {
     "data": {
      "text/html": [
       "<div>\n",
       "<style scoped>\n",
       "    .dataframe tbody tr th:only-of-type {\n",
       "        vertical-align: middle;\n",
       "    }\n",
       "\n",
       "    .dataframe tbody tr th {\n",
       "        vertical-align: top;\n",
       "    }\n",
       "\n",
       "    .dataframe thead th {\n",
       "        text-align: right;\n",
       "    }\n",
       "</style>\n",
       "<table border=\"1\" class=\"dataframe\">\n",
       "  <thead>\n",
       "    <tr style=\"text-align: right;\">\n",
       "      <th></th>\n",
       "      <th>Total Number of Schools</th>\n",
       "      <th>Total Number of Students</th>\n",
       "      <th>Total Budget</th>\n",
       "      <th>Average Math Score</th>\n",
       "      <th>Average Reading Score</th>\n",
       "      <th>Percent Passing Math</th>\n",
       "      <th>Percent Passing Reading</th>\n",
       "      <th>Percent Passing Reading and Math</th>\n",
       "    </tr>\n",
       "  </thead>\n",
       "  <tbody>\n",
       "    <tr>\n",
       "      <th>0</th>\n",
       "      <td>15</td>\n",
       "      <td>39170</td>\n",
       "      <td>24649428</td>\n",
       "      <td>78.985371</td>\n",
       "      <td>81.87784</td>\n",
       "      <td>75</td>\n",
       "      <td>86</td>\n",
       "      <td>65</td>\n",
       "    </tr>\n",
       "  </tbody>\n",
       "</table>\n",
       "</div>"
      ],
      "text/plain": [
       "   Total Number of Schools  Total Number of Students  Total Budget  \\\n",
       "0                       15                     39170      24649428   \n",
       "\n",
       "   Average Math Score  Average Reading Score  Percent Passing Math  \\\n",
       "0           78.985371               81.87784                    75   \n",
       "\n",
       "   Percent Passing Reading  Percent Passing Reading and Math  \n",
       "0                       86                                65  "
      ]
     },
     "execution_count": 156,
     "metadata": {},
     "output_type": "execute_result"
    }
   ],
   "source": [
    "###### SUMMARY OF GENERATED VALUES ################################################\n",
    "# number_of_schools\n",
    "# number_of_students\n",
    "# total_budget\n",
    "# average_math_score\n",
    "# average_reading_score \n",
    "# rounded_pp_math\n",
    "# rounded_pp_reading\n",
    "# rounded_pp_reading_and_math\n",
    "\n",
    "# Create a dataframe to hold the above results\n",
    "\n",
    "\n",
    "# Optional: give the displayed data cleaner formatting\n",
    "\n",
    "schools_summary_df = pd.DataFrame({\"Total Number of Schools\":[number_of_schools],\"Total Number of Students\": [number_of_students],\n",
    "                    \"Total Budget\": [total_budget], \"Average Math Score\": [average_math_score],\n",
    "                      \"Average Reading Score\":[average_reading_score],\"Percent Passing Math\":[rounded_pp_math],\n",
    "                      \"Percent Passing Reading\":[rounded_pp_reading],\n",
    "                      \"Percent Passing Reading and Math\": [rounded_pp_reading_and_math]})\n",
    "\n",
    "#  [{\"Total Number of Schools\":number_of_schools},\n",
    "#                       {\"Total Number of Students\":number_of_students},\n",
    "#                       {\"Total Budget\": total_budget}, {\"Average Math Score\": average_math_score},\n",
    "#                       {\"Average Reading Score\":average_reading_score},{\"Percent Passing Math\":rounded_pp_math},\n",
    "#                       {\"Percent Passing Reading\":rounded_pp_reading},\n",
    "#                       {\"Percent Passing Reading and Math\": rounded_pp_reading_and_math}]\n",
    "# schools_summary_df = pd.DataFrame(schools_summary)\n",
    "\n",
    "\n",
    "schools_summary_df.head()\n",
    "\n",
    "\n",
    "\n"
   ]
  },
  {
   "cell_type": "markdown",
   "id": "bdd0dd02",
   "metadata": {},
   "source": [
    "# School Summary"
   ]
  },
  {
   "cell_type": "code",
   "execution_count": 238,
   "id": "224fb2a2",
   "metadata": {},
   "outputs": [
    {
     "data": {
      "text/plain": [
       "school_name\n",
       "Huang High School        District\n",
       "Figueroa High School     District\n",
       "Shelton High School       Charter\n",
       "Hernandez High School    District\n",
       "Griffin High School       Charter\n",
       "Wilson High School        Charter\n",
       "Cabrera High School       Charter\n",
       "Bailey High School       District\n",
       "Holden High School        Charter\n",
       "Pena High School          Charter\n",
       "Wright High School        Charter\n",
       "Rodriguez High School    District\n",
       "Johnson High School      District\n",
       "Ford High School         District\n",
       "Thomas High School        Charter\n",
       "Name: type, dtype: object"
      ]
     },
     "execution_count": 238,
     "metadata": {},
     "output_type": "execute_result"
    }
   ],
   "source": [
    "school_types = school_data.set_index(\"school_name\")[\"type\"]\n",
    "school_types\n"
   ]
  },
  {
   "cell_type": "code",
   "execution_count": 250,
   "id": "d2dd19d0",
   "metadata": {},
   "outputs": [
    {
     "data": {
      "text/plain": [
       "school_name\n",
       "Huang High School        2917\n",
       "Figueroa High School     2949\n",
       "Shelton High School      1761\n",
       "Hernandez High School    4635\n",
       "Griffin High School      1468\n",
       "Wilson High School       2283\n",
       "Cabrera High School      1858\n",
       "Bailey High School       4976\n",
       "Holden High School        427\n",
       "Pena High School          962\n",
       "Wright High School       1800\n",
       "Rodriguez High School    3999\n",
       "Johnson High School      4761\n",
       "Ford High School         2739\n",
       "Thomas High School       1635\n",
       "Name: size, dtype: int64"
      ]
     },
     "execution_count": 250,
     "metadata": {},
     "output_type": "execute_result"
    }
   ],
   "source": [
    "school_pop = school_data.set_index(\"school_name\")[\"size\"]\n",
    "school_pop\n"
   ]
  },
  {
   "cell_type": "code",
   "execution_count": 241,
   "id": "71d32130",
   "metadata": {
    "scrolled": true
   },
   "outputs": [
    {
     "data": {
      "text/plain": [
       "school_name\n",
       "Bailey High School       3124928.0\n",
       "Cabrera High School      1081356.0\n",
       "Figueroa High School     1884411.0\n",
       "Ford High School         1763916.0\n",
       "Griffin High School       917500.0\n",
       "Hernandez High School    3022020.0\n",
       "Holden High School        248087.0\n",
       "Huang High School        1910635.0\n",
       "Johnson High School      3094650.0\n",
       "Pena High School          585858.0\n",
       "Rodriguez High School    2547363.0\n",
       "Shelton High School      1056600.0\n",
       "Thomas High School       1043130.0\n",
       "Wilson High School       1319574.0\n",
       "Wright High School       1049400.0\n",
       "Name: budget, dtype: float64"
      ]
     },
     "execution_count": 241,
     "metadata": {},
     "output_type": "execute_result"
    }
   ],
   "source": [
    "school_budget = school_data_complete.groupby(\"school_name\").mean()[\"budget\"]\n",
    "school_budget\n"
   ]
  },
  {
   "cell_type": "code",
   "execution_count": 270,
   "id": "b4ca40c7",
   "metadata": {},
   "outputs": [
    {
     "data": {
      "text/plain": [
       "school_name\n",
       "Bailey High School       628.0\n",
       "Cabrera High School      582.0\n",
       "Figueroa High School     639.0\n",
       "Ford High School         644.0\n",
       "Griffin High School      625.0\n",
       "Hernandez High School    652.0\n",
       "Holden High School       581.0\n",
       "Huang High School        655.0\n",
       "Johnson High School      650.0\n",
       "Pena High School         609.0\n",
       "Rodriguez High School    637.0\n",
       "Shelton High School      600.0\n",
       "Thomas High School       638.0\n",
       "Wilson High School       578.0\n",
       "Wright High School       583.0\n",
       "dtype: float64"
      ]
     },
     "execution_count": 270,
     "metadata": {},
     "output_type": "execute_result"
    }
   ],
   "source": [
    "per_student_budget = school_budget // school_pop\n",
    "per_student_budget"
   ]
  },
  {
   "cell_type": "code",
   "execution_count": 253,
   "id": "8f607436",
   "metadata": {},
   "outputs": [
    {
     "data": {
      "text/plain": [
       "school_name\n",
       "Bailey High School       77.0\n",
       "Cabrera High School      83.0\n",
       "Figueroa High School     77.0\n",
       "Ford High School         77.0\n",
       "Griffin High School      83.0\n",
       "Hernandez High School    77.0\n",
       "Holden High School       84.0\n",
       "Huang High School        77.0\n",
       "Johnson High School      77.0\n",
       "Pena High School         84.0\n",
       "Rodriguez High School    77.0\n",
       "Shelton High School      83.0\n",
       "Thomas High School       83.0\n",
       "Wilson High School       83.0\n",
       "Wright High School       84.0\n",
       "Name: math_score, dtype: float64"
      ]
     },
     "execution_count": 253,
     "metadata": {},
     "output_type": "execute_result"
    }
   ],
   "source": [
    "math_score_per_school = school_data_complete.groupby(\"school_name\").mean()[\"math_score\"]\n",
    "r_math_score_per_school =round(math_score_per_school)\n",
    "r_math_score_per_school"
   ]
  },
  {
   "cell_type": "code",
   "execution_count": 254,
   "id": "ca14ef44",
   "metadata": {},
   "outputs": [
    {
     "data": {
      "text/plain": [
       "school_name\n",
       "Bailey High School       81.0\n",
       "Cabrera High School      84.0\n",
       "Figueroa High School     81.0\n",
       "Ford High School         81.0\n",
       "Griffin High School      84.0\n",
       "Hernandez High School    81.0\n",
       "Holden High School       84.0\n",
       "Huang High School        81.0\n",
       "Johnson High School      81.0\n",
       "Pena High School         84.0\n",
       "Rodriguez High School    81.0\n",
       "Shelton High School      84.0\n",
       "Thomas High School       84.0\n",
       "Wilson High School       84.0\n",
       "Wright High School       84.0\n",
       "Name: reading_score, dtype: float64"
      ]
     },
     "execution_count": 254,
     "metadata": {},
     "output_type": "execute_result"
    }
   ],
   "source": [
    "reading_score_per_school = school_data_complete.groupby(\"school_name\").mean()[\"reading_score\"]\n",
    "r_reading_score_per_school =round(reading_score_per_school)\n",
    "r_reading_score_per_school"
   ]
  },
  {
   "cell_type": "code",
   "execution_count": 280,
   "id": "22018714",
   "metadata": {
    "scrolled": true
   },
   "outputs": [
    {
     "name": "stdout",
     "output_type": "stream",
     "text": [
      "                      School Type  Total Students  Total School Budget  \\\n",
      "school_name                                                              \n",
      "Bailey High School       District            4976            3124928.0   \n",
      "Cabrera High School       Charter            1858            1081356.0   \n",
      "Figueroa High School     District            2949            1884411.0   \n",
      "Ford High School         District            2739            1763916.0   \n",
      "Griffin High School       Charter            1468             917500.0   \n",
      "Hernandez High School    District            4635            3022020.0   \n",
      "Holden High School        Charter             427             248087.0   \n",
      "Huang High School        District            2917            1910635.0   \n",
      "Johnson High School      District            4761            3094650.0   \n",
      "Pena High School          Charter             962             585858.0   \n",
      "Rodriguez High School    District            3999            2547363.0   \n",
      "Shelton High School       Charter            1761            1056600.0   \n",
      "Thomas High School        Charter            1635            1043130.0   \n",
      "Wilson High School        Charter            2283            1319574.0   \n",
      "Wright High School        Charter            1800            1049400.0   \n",
      "\n",
      "                       Budget per Student  Average Math Score  \\\n",
      "school_name                                                     \n",
      "Bailey High School                  628.0                77.0   \n",
      "Cabrera High School                 582.0                83.0   \n",
      "Figueroa High School                639.0                77.0   \n",
      "Ford High School                    644.0                77.0   \n",
      "Griffin High School                 625.0                83.0   \n",
      "Hernandez High School               652.0                77.0   \n",
      "Holden High School                  581.0                84.0   \n",
      "Huang High School                   655.0                77.0   \n",
      "Johnson High School                 650.0                77.0   \n",
      "Pena High School                    609.0                84.0   \n",
      "Rodriguez High School               637.0                77.0   \n",
      "Shelton High School                 600.0                83.0   \n",
      "Thomas High School                  638.0                83.0   \n",
      "Wilson High School                  578.0                83.0   \n",
      "Wright High School                  583.0                84.0   \n",
      "\n",
      "                       Average Reading Score  \n",
      "school_name                                   \n",
      "Bailey High School                      81.0  \n",
      "Cabrera High School                     84.0  \n",
      "Figueroa High School                    81.0  \n",
      "Ford High School                        81.0  \n",
      "Griffin High School                     84.0  \n",
      "Hernandez High School                   81.0  \n",
      "Holden High School                      84.0  \n",
      "Huang High School                       81.0  \n",
      "Johnson High School                     81.0  \n",
      "Pena High School                        84.0  \n",
      "Rodriguez High School                   81.0  \n",
      "Shelton High School                     84.0  \n",
      "Thomas High School                      84.0  \n",
      "Wilson High School                      84.0  \n",
      "Wright High School                      84.0  \n"
     ]
    }
   ],
   "source": [
    "#Collecting these values above in a Dataframe\n",
    "per_school_summary = pd.DataFrame(     \n",
    "    {\n",
    "        \"School Type\": school_types,\n",
    "         \"Total Students\": school_pop,\n",
    "         \"Total School Budget\": school_budget,\n",
    "        \"Budget per Student\" : per_student_budget,\n",
    "        \"Average Math Score\": r_math_score_per_school,\n",
    "        \"Average Reading Score\": r_reading_score_per_school  \n",
    "     })\n",
    "print(per_school_summary)"
   ]
  },
  {
   "cell_type": "code",
   "execution_count": 272,
   "id": "863e5ff6",
   "metadata": {},
   "outputs": [],
   "source": [
    "From above\n",
    "#students_passing_math  = school_data_complete.loc[(school_data_complete[\"math_score\"]>= 70), :]\n",
    "students_passing_math_per_school= \n",
    "\n",
    "# (len(students_passing_math))\n",
    "# print(number_of_students)\n",
    "\n",
    "# #From earlier calculation, total students is number_of_students\n",
    "# #pp will now stand for percent passing\n",
    "# pp_math = ((len(students_passing_math))/number_of_students)*100\n",
    "# pp_math\n",
    "\n",
    "# rounded_pp_math = round(pp_math)\n",
    "# print(rounded_pp_math)\n",
    "\n",
    "\n",
    "# # Calculate the percentage of students who passed math and reading (% Overall Passing)\n",
    "# passing_reading_and_math = school_data_complete.loc[(school_data_complete[\"reading_score\"]>= 70) & (school_data_complete[\"math_score\"]>= 70), :]\n",
    "# print(len(passing_reading_and_math))\n",
    "\n",
    "# pp_reading_and_math = ((len(passing_reading_and_math))/number_of_students)*100\n",
    "# pp_reading_and_math\n",
    "                                    \n",
    "# rounded_pp_reading_and_math = round(pp_reading_and_math)\n",
    "# print(rounded_pp_reading_and_math)\n",
    "\n",
    "# students_passing_math_per_school = school_data_complete.loc[(school_data_complete[\"math_score\"]>= 70), :]\n",
    "# s_p_m_p_s = (len(students_passing_math))\n",
    "# print(s_p_m_p_s)\n",
    "\n",
    "# # # #From earlier calculation, total students is number_of_students\n",
    "# # # #pp will now stand for percent passing\n",
    "# pp_math_ps = ((len(s_p_m_p_s))/school_pop)*100\n",
    "# pp_math_ps\n",
    "\n",
    "# students_passing_reading  = school_data_complete.loc[(school_data_complete[\"reading_score\"]>= 70), :]\n",
    "# print(len(students_passing_reading))\n",
    "\n",
    "# pp_reading = ((len(students_passing_reading))/number_of_students)*100\n",
    "# pp_reading\n",
    "\n",
    "# rounded_pp_reading = round(pp_reading)\n",
    "# print(rounded_pp_reading)"
   ]
  },
  {
   "cell_type": "code",
   "execution_count": 279,
   "id": "cb190001",
   "metadata": {
    "scrolled": true
   },
   "outputs": [
    {
     "ename": "SyntaxError",
     "evalue": "unexpected EOF while parsing (377215467.py, line 40)",
     "output_type": "error",
     "traceback": [
      "\u001b[1;36m  Input \u001b[1;32mIn [279]\u001b[1;36m\u001b[0m\n\u001b[1;33m    \u001b[0m\n\u001b[1;37m    ^\u001b[0m\n\u001b[1;31mSyntaxError\u001b[0m\u001b[1;31m:\u001b[0m unexpected EOF while parsing\n"
     ]
    }
   ],
   "source": [
    "# Create an overview table that summarizes key metrics about each school\n",
    "per_school_summary[\"Total School Budget\"] = (per_school_summary[\"school_budget\"]).map(\"${:,.2f}\".format)\n",
    "\n",
    "per_school_summary[\"Budget per Student\"] = (per_school_summary[\"Budget per Student\"]).map(\"${:,.2f}\".format)\n",
    "#per_school_summary[\"Average Math Score\"] = (per_school_summary[\"Average Math Score\"].map\n",
    "# per_school_summary[\"School Type\"] = (per_school_summary[\"school_types\"]).map\n",
    "# per_school_summary[\"Total Students\"] = (per_school_summary[\"school_pop\"]).map\n",
    "\n",
    "\n",
    "\n",
    "\n",
    "\n",
    "#Adding new columns to calculate percents:\n",
    "#school_metric_summary_df[\"% Passing Math\"]\n",
    "#school_metric_summary_df[\"% Passing Reading\"]\n",
    "#school_metric_summary_df[\"% Overall Passing]                                                \n",
    "                                                 # # Add a new column that calculates the Poverty Rate\n",
    "# census_2019_df[\"Poverty Rate (%)\"] = census_2019_df[\"Total Population in Poverty\"] / \\\n",
    "#                                         census_2019_df[\"Total Population\"] * 100\n",
    "\n",
    "# # Use Map to format all the columns\n",
    "# file_df[\"INCOME\"] = file_df[\"INCOME\"].map(\"${:,.2f}\".format)\n",
    "# file_df[\"COSTS\"] = file_df[\"COSTS\"].map(\"${:,.2f}\".format)\n",
    "# file_df[\"PERCENT30\"] = (file_df[\"PERCENT30\"]*100).map(\"{:.1f}%\".format)\n",
    "# file_df[\"PERCENT3050\"] = (file_df[\"PERCENT3050\"]*100).map(\"{:.1f}%\".format)\n",
    "# file_df[\"PERCENT50\"] = (file_df[\"PERCENT50\"]*100).map(\"{:.1f}%\".format)\n",
    "# file_df[\"PERCENT_NODATA\"] = (file_df[\"PERCENT_NODATA\"]*100).map(\"{:.1f}%\".format)\n",
    "# file_df[\"PERCENT_NOBURDEN\"] = (file_df[\"PERCENT_NOBURDEN\"]*100).map(\"{:.1f}%\".format)\n",
    "# file_df[\"TOTAL\"] = file_df[\"TOTAL\"].map(\"{:,}\".format)\n",
    "# file_df.head()\n",
    "\n",
    "\n",
    "\n",
    "#school_metric_summary_df[\"\"]\n",
    "\n",
    "\n",
    "\n",
    "# Create a dataframe to hold the above results\n",
    "\n",
    "\n"
   ]
  },
  {
   "cell_type": "markdown",
   "id": "f74c669d",
   "metadata": {},
   "source": [
    "# Top Performing Schools (By % Overall Passing)"
   ]
  },
  {
   "cell_type": "code",
   "execution_count": 134,
   "id": "5d0a58f7",
   "metadata": {},
   "outputs": [],
   "source": [
    "# Sort and display the top five performing schools by % overall passing.\n",
    "#top_performing_schools = \"DF\"sort_values(\"Usage\", ascending=True)\n",
    "\n",
    "\n",
    "\n",
    "# Sort the data by Poverty Rate and Average Per Capita Income by County, Highest to Lowest\n",
    "# poverty_sorted_df = census_2019_df.sort_values([\"Poverty Rate (%)\", \n",
    "#                                              \"Average Per Capita Income by County\"],\n",
    "#                                            ascending=False)\n",
    "\n",
    "# # Reset Index\n",
    "# poverty_sorted_df = poverty_sorted_df.reset_index(drop=True)\n",
    "# poverty_sorted_df.head()\n",
    "# # Reset the index so that the index is now based on the sorting locations\n",
    "# electricity_df = electricity_df.reset_index(drop=True)\n",
    "\n",
    "# # Save all of the information collected on the worst day\n",
    "# worst_day = electricity_df.loc[0, :]\n",
    "# worst_day"
   ]
  },
  {
   "cell_type": "markdown",
   "id": "33c32ae5",
   "metadata": {},
   "source": [
    "# Bottom Performing Schools (By % Overall Passing)"
   ]
  },
  {
   "cell_type": "code",
   "execution_count": 113,
   "id": "843161c7",
   "metadata": {},
   "outputs": [],
   "source": [
    "# Sort and display the five worst-performing schools by % overall passing.\n",
    "\n",
    "#bottom_performing_schools = \"DF\"sort_values(\"Usage\", ascending=True)"
   ]
  },
  {
   "cell_type": "markdown",
   "id": "b1f014cc",
   "metadata": {},
   "source": [
    "# Math Scores by Grade"
   ]
  },
  {
   "cell_type": "code",
   "execution_count": 114,
   "id": "4ab877ce",
   "metadata": {},
   "outputs": [],
   "source": [
    "# Create a table that lists the average Reading Score for students of each grade level (9th, 10th, 11th, 12th)\n",
    "#at each school.\n",
    "\n",
    "# # Create the bins in which Data will be held\n",
    "# bins = [\"9th\", \"10th\", \"11th\", \"12th\"]\n",
    "\n",
    "# # Create the names for the five bins\n",
    "# grade_level = [\"9th\", \"10th\", \"11th\", \"12th\"]\n",
    "\n",
    "# #ADD CORRECT DF\n",
    "# summary_df[\"Average Reading Score\"] = pd.cut(summary_df[\"grade\"], bins)\n",
    "# #school_metric_summary_df = summary.df.groupby(\"School Metric Summaries\")\n",
    "\n",
    "\n",
    "# # Create a pandas series for each grade. Hint: use a conditional statement.\n",
    "\n",
    "\n",
    "# Group each series by school\n",
    "# .groupby\n",
    "#school_metric_summary_df = summary_df.groupby(\"school_name\")\n",
    "\n"
   ]
  },
  {
   "cell_type": "code",
   "execution_count": 115,
   "id": "8da9697a",
   "metadata": {},
   "outputs": [],
   "source": [
    "# Combine the series into a dataframe\n",
    "\n",
    "# Optional: give the displayed data cleaner formatting\n",
    "\n",
    "#math_scores_by_grade"
   ]
  },
  {
   "cell_type": "markdown",
   "id": "ce3b35e4",
   "metadata": {},
   "source": [
    "# Reading Score by Grade"
   ]
  },
  {
   "cell_type": "code",
   "execution_count": 116,
   "id": "1b1de11b",
   "metadata": {},
   "outputs": [],
   "source": [
    "# Perform the same operations as above for reading scores\n",
    "\n",
    "# reading_scores_by_grade "
   ]
  },
  {
   "cell_type": "markdown",
   "id": "0cef0216",
   "metadata": {},
   "source": [
    "# Scores by School Spending"
   ]
  },
  {
   "cell_type": "code",
   "execution_count": 117,
   "id": "59c21ffb",
   "metadata": {},
   "outputs": [],
   "source": [
    "# Create a table that breaks down school performances based on average Spending Ranges (Per Student). Use 4 reasonable bins to group school spending. Include in the table each of the following:\n",
    "# Average Math Score\n",
    "# Average Reading Score\n",
    "# % Passing Math\n",
    "# % Passing Reading\n",
    "# Overall Passing Rate (Average of the above two)\n",
    "\n",
    "# scores_by_school_spending"
   ]
  },
  {
   "cell_type": "markdown",
   "id": "1af4ad92",
   "metadata": {},
   "source": [
    "# Scores by School Size"
   ]
  },
  {
   "cell_type": "code",
   "execution_count": 118,
   "id": "2317ed80",
   "metadata": {},
   "outputs": [],
   "source": [
    "# Perform the same operations as above, based on school size.\n",
    "#scores_by_school_type"
   ]
  },
  {
   "cell_type": "markdown",
   "id": "9d640d57",
   "metadata": {},
   "source": [
    "# Scores by School Type"
   ]
  },
  {
   "cell_type": "code",
   "execution_count": 119,
   "id": "0bff65fb",
   "metadata": {},
   "outputs": [],
   "source": [
    "# Perform the same operations as above, based on school type\n",
    "#scores_by_school_type"
   ]
  },
  {
   "cell_type": "code",
   "execution_count": null,
   "id": "e1549111",
   "metadata": {},
   "outputs": [],
   "source": []
  },
  {
   "cell_type": "code",
   "execution_count": null,
   "id": "afccc2eb",
   "metadata": {},
   "outputs": [],
   "source": []
  }
 ],
 "metadata": {
  "kernelspec": {
   "display_name": "Python 3 (ipykernel)",
   "language": "python",
   "name": "python3"
  },
  "language_info": {
   "codemirror_mode": {
    "name": "ipython",
    "version": 3
   },
   "file_extension": ".py",
   "mimetype": "text/x-python",
   "name": "python",
   "nbconvert_exporter": "python",
   "pygments_lexer": "ipython3",
   "version": "3.9.12"
  }
 },
 "nbformat": 4,
 "nbformat_minor": 5
}
